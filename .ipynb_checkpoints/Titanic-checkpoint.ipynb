{
 "cells": [
  {
   "cell_type": "code",
   "execution_count": 1,
   "metadata": {},
   "outputs": [],
   "source": [
    "# To support both python 2 and python 3\n",
    "from __future__ import division, print_function, unicode_literals\n",
    "\n",
    "# Common imports\n",
    "import numpy as np\n",
    "import os\n",
    "\n",
    "# to make this notebook's output stable across runs\n",
    "np.random.seed(42)\n",
    "\n",
    "# To plot pretty figures\n",
    "%matplotlib inline\n",
    "import matplotlib\n",
    "import matplotlib.pyplot as plt\n",
    "\n",
    "import pandas as pd\n",
    "from sklearn import ensemble, tree, model_selection"
   ]
  },
  {
   "cell_type": "code",
   "execution_count": 2,
   "metadata": {},
   "outputs": [],
   "source": [
    "# Import test and train datasets\n",
    "df_train = pd.read_csv('datasets/titanic/train.csv')\n",
    "df_test = pd.read_csv('datasets/titanic/test.csv')"
   ]
  },
  {
   "cell_type": "code",
   "execution_count": 3,
   "metadata": {},
   "outputs": [],
   "source": [
    "# To put average age/fare for those without data and to convert sex and embarked to integers\n",
    "def clean_data(data):\n",
    "    data[\"Fare\"] = data[\"Fare\"].fillna(data[\"Fare\"].dropna().median())\n",
    "    data[\"Age\"] = data[\"Age\"].fillna(data[\"Age\"].dropna().median())\n",
    "\n",
    "    data.loc[data[\"Sex\"] == \"male\", \"Sex\"] = 0\n",
    "    data.loc[data[\"Sex\"] == \"female\", \"Sex\"] = 1\n",
    "\n",
    "    data[\"Embarked\"] = data[\"Embarked\"].fillna(\"S\")\n",
    "    data.loc[data[\"Embarked\"] == \"S\", \"Embarked\"] = 0\n",
    "    data.loc[data[\"Embarked\"] == \"C\", \"Embarked\"] = 1\n",
    "    data.loc[data[\"Embarked\"] == \"Q\", \"Embarked\"] = 2\n",
    "\n",
    "# To create submission file\n",
    "def write_prediction(prediction, name):\n",
    "    PassengerId = np.array(df_test[\"PassengerId\"]).astype(int)\n",
    "    solution = pd.DataFrame(prediction, PassengerId, columns = [\"Survived\"])\n",
    "    solution.to_csv(name, index_label = [\"PassengerId\"])"
   ]
  },
  {
   "cell_type": "code",
   "execution_count": 4,
   "metadata": {},
   "outputs": [],
   "source": [
    "#To clean train and test datasets\n",
    "clean_data(df_train)\n",
    "clean_data(df_test)\n",
    "\n",
    "#Goal of survived\n",
    "target = df_train[\"Survived\"].values\n",
    "\n",
    "#List of features values\n",
    "features = df_train[[\"Pclass\", \"Age\", \"Sex\", \"Fare\", \"SibSp\", \"Parch\", \"Embarked\"]].values"
   ]
  },
  {
   "cell_type": "code",
   "execution_count": 5,
   "metadata": {},
   "outputs": [
    {
     "name": "stdout",
     "output_type": "stream",
     "text": [
      "[0.16289604 0.13683043 0.47976487 0.14661755 0.04973834 0.01414005\n",
      " 0.01001273]\n",
      "0.8787878787878788\n"
     ]
    }
   ],
   "source": [
    "# Set paramater for fit\n",
    "decision_tree = tree.DecisionTreeClassifier(\n",
    "    max_depth = 7,\n",
    "    min_samples_split = 2,\n",
    "    random_state = 1)\n",
    "decision_tree = decision_tree.fit(features, target)\n",
    "\n",
    "#To print weights of features\n",
    "print(decision_tree.feature_importances_)\n",
    "#To print score\n",
    "print(decision_tree.score(features, target))\n",
    "\n",
    "\n",
    "#To create CSV submission file\n",
    "test_features_tree = df_test[[\"Pclass\", \"Age\", \"Sex\", \"Fare\", \"SibSp\", \"Parch\", \"Embarked\"]].values\n",
    "prediction_tree = decision_tree.predict(test_features_tree)\n",
    "write_prediction(prediction_tree, \"results/decision_tree.csv\")"
   ]
  },
  {
   "cell_type": "code",
   "execution_count": null,
   "metadata": {},
   "outputs": [],
   "source": []
  }
 ],
 "metadata": {
  "kernelspec": {
   "display_name": "Python 2",
   "language": "python",
   "name": "python2"
  },
  "language_info": {
   "codemirror_mode": {
    "name": "ipython",
    "version": 2
   },
   "file_extension": ".py",
   "mimetype": "text/x-python",
   "name": "python",
   "nbconvert_exporter": "python",
   "pygments_lexer": "ipython2",
   "version": "2.7.15"
  }
 },
 "nbformat": 4,
 "nbformat_minor": 2
}
